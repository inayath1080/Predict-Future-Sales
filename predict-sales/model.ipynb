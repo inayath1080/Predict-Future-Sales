{
 "cells": [
  {
   "cell_type": "markdown",
   "metadata": {
    "execution": {
     "iopub.execute_input": "2022-05-19T07:53:21.591767Z",
     "iopub.status.busy": "2022-05-19T07:53:21.591448Z",
     "iopub.status.idle": "2022-05-19T07:53:22.561745Z",
     "shell.execute_reply": "2022-05-19T07:53:22.561047Z",
     "shell.execute_reply.started": "2022-05-19T07:53:21.59169Z"
    }
   },
   "source": [
    "**Importing Required Libraries**"
   ]
  },
  {
   "cell_type": "code",
   "execution_count": 30,
   "metadata": {
    "execution": {
     "iopub.execute_input": "2022-05-24T15:18:47.304751Z",
     "iopub.status.busy": "2022-05-24T15:18:47.304470Z",
     "iopub.status.idle": "2022-05-24T15:18:47.310047Z",
     "shell.execute_reply": "2022-05-24T15:18:47.309255Z",
     "shell.execute_reply.started": "2022-05-24T15:18:47.304719Z"
    }
   },
   "outputs": [],
   "source": [
    "import pandas as pd\n",
    "import numpy as np\n",
    "import matplotlib.pyplot as plt\n",
    "from tqdm import tqdm\n",
    "from sklearn.model_selection import train_test_split\n",
    "from xgboost import  XGBRegressor\n",
    "import warnings\n",
    "warnings.filterwarnings('ignore')\n",
    "from tqdm import tqdm"
   ]
  },
  {
   "cell_type": "markdown",
   "metadata": {},
   "source": [
    "**Reading data**"
   ]
  },
  {
   "cell_type": "code",
   "execution_count": 31,
   "metadata": {
    "execution": {
     "iopub.execute_input": "2022-05-24T15:18:47.503986Z",
     "iopub.status.busy": "2022-05-24T15:18:47.503534Z",
     "iopub.status.idle": "2022-05-24T15:18:48.998917Z",
     "shell.execute_reply": "2022-05-24T15:18:48.998113Z",
     "shell.execute_reply.started": "2022-05-24T15:18:47.503957Z"
    }
   },
   "outputs": [],
   "source": [
    "item_category=pd.read_csv('../input/competitive-data-science-predict-future-sales/item_categories.csv')\n",
    "items=pd.read_csv('../input/competitive-data-science-predict-future-sales/items.csv')\n",
    "shops=pd.read_csv('../input/competitive-data-science-predict-future-sales/shops.csv')\n",
    "sales_train=pd.read_csv('../input/competitive-data-science-predict-future-sales/sales_train.csv')\n",
    "test=pd.read_csv('../input/competitive-data-science-predict-future-sales/test.csv')"
   ]
  },
  {
   "cell_type": "code",
   "execution_count": 32,
   "metadata": {
    "execution": {
     "iopub.execute_input": "2022-05-24T15:18:49.001008Z",
     "iopub.status.busy": "2022-05-24T15:18:49.000739Z",
     "iopub.status.idle": "2022-05-24T15:18:49.013371Z",
     "shell.execute_reply": "2022-05-24T15:18:49.012397Z",
     "shell.execute_reply.started": "2022-05-24T15:18:49.000971Z"
    }
   },
   "outputs": [
    {
     "data": {
      "text/html": [
       "<div>\n",
       "<style scoped>\n",
       "    .dataframe tbody tr th:only-of-type {\n",
       "        vertical-align: middle;\n",
       "    }\n",
       "\n",
       "    .dataframe tbody tr th {\n",
       "        vertical-align: top;\n",
       "    }\n",
       "\n",
       "    .dataframe thead th {\n",
       "        text-align: right;\n",
       "    }\n",
       "</style>\n",
       "<table border=\"1\" class=\"dataframe\">\n",
       "  <thead>\n",
       "    <tr style=\"text-align: right;\">\n",
       "      <th></th>\n",
       "      <th>date</th>\n",
       "      <th>date_block_num</th>\n",
       "      <th>shop_id</th>\n",
       "      <th>item_id</th>\n",
       "      <th>item_price</th>\n",
       "      <th>item_cnt_day</th>\n",
       "    </tr>\n",
       "  </thead>\n",
       "  <tbody>\n",
       "    <tr>\n",
       "      <th>0</th>\n",
       "      <td>02.01.2013</td>\n",
       "      <td>0</td>\n",
       "      <td>59</td>\n",
       "      <td>22154</td>\n",
       "      <td>999.00</td>\n",
       "      <td>1.0</td>\n",
       "    </tr>\n",
       "    <tr>\n",
       "      <th>1</th>\n",
       "      <td>03.01.2013</td>\n",
       "      <td>0</td>\n",
       "      <td>25</td>\n",
       "      <td>2552</td>\n",
       "      <td>899.00</td>\n",
       "      <td>1.0</td>\n",
       "    </tr>\n",
       "    <tr>\n",
       "      <th>2</th>\n",
       "      <td>05.01.2013</td>\n",
       "      <td>0</td>\n",
       "      <td>25</td>\n",
       "      <td>2552</td>\n",
       "      <td>899.00</td>\n",
       "      <td>-1.0</td>\n",
       "    </tr>\n",
       "    <tr>\n",
       "      <th>3</th>\n",
       "      <td>06.01.2013</td>\n",
       "      <td>0</td>\n",
       "      <td>25</td>\n",
       "      <td>2554</td>\n",
       "      <td>1709.05</td>\n",
       "      <td>1.0</td>\n",
       "    </tr>\n",
       "    <tr>\n",
       "      <th>4</th>\n",
       "      <td>15.01.2013</td>\n",
       "      <td>0</td>\n",
       "      <td>25</td>\n",
       "      <td>2555</td>\n",
       "      <td>1099.00</td>\n",
       "      <td>1.0</td>\n",
       "    </tr>\n",
       "  </tbody>\n",
       "</table>\n",
       "</div>"
      ],
      "text/plain": [
       "         date  date_block_num  shop_id  item_id  item_price  item_cnt_day\n",
       "0  02.01.2013               0       59    22154      999.00           1.0\n",
       "1  03.01.2013               0       25     2552      899.00           1.0\n",
       "2  05.01.2013               0       25     2552      899.00          -1.0\n",
       "3  06.01.2013               0       25     2554     1709.05           1.0\n",
       "4  15.01.2013               0       25     2555     1099.00           1.0"
      ]
     },
     "execution_count": 32,
     "metadata": {},
     "output_type": "execute_result"
    }
   ],
   "source": [
    "sales_train.head()"
   ]
  },
  {
   "cell_type": "markdown",
   "metadata": {},
   "source": [
    "### The above dataset has 2935849 rows with 6 columns\n",
    "<br>date_block_num is number given to each month \n",
    "<br>for example date_block_number =0 represents January 2013\n",
    "    <br>        date_block_number =1 represents February 2013\n",
    "        <br>    date_block_number =33 represents October 2015\n",
    "        <br>item_price is the price of the item on that day\n",
    "            <br>    item_cnt_day represents no of products sold on that day"
   ]
  },
  {
   "cell_type": "code",
   "execution_count": 33,
   "metadata": {
    "execution": {
     "iopub.execute_input": "2022-05-24T15:18:49.015271Z",
     "iopub.status.busy": "2022-05-24T15:18:49.014981Z",
     "iopub.status.idle": "2022-05-24T15:18:49.409713Z",
     "shell.execute_reply": "2022-05-24T15:18:49.408834Z",
     "shell.execute_reply.started": "2022-05-24T15:18:49.015233Z"
    }
   },
   "outputs": [
    {
     "data": {
      "text/html": [
       "<div>\n",
       "<style scoped>\n",
       "    .dataframe tbody tr th:only-of-type {\n",
       "        vertical-align: middle;\n",
       "    }\n",
       "\n",
       "    .dataframe tbody tr th {\n",
       "        vertical-align: top;\n",
       "    }\n",
       "\n",
       "    .dataframe thead th {\n",
       "        text-align: right;\n",
       "    }\n",
       "</style>\n",
       "<table border=\"1\" class=\"dataframe\">\n",
       "  <thead>\n",
       "    <tr style=\"text-align: right;\">\n",
       "      <th></th>\n",
       "      <th>date_block_num</th>\n",
       "      <th>shop_id</th>\n",
       "      <th>item_id</th>\n",
       "      <th>item_price</th>\n",
       "      <th>item_cnt_day</th>\n",
       "    </tr>\n",
       "  </thead>\n",
       "  <tbody>\n",
       "    <tr>\n",
       "      <th>count</th>\n",
       "      <td>2.935849e+06</td>\n",
       "      <td>2.935849e+06</td>\n",
       "      <td>2.935849e+06</td>\n",
       "      <td>2.935849e+06</td>\n",
       "      <td>2.935849e+06</td>\n",
       "    </tr>\n",
       "    <tr>\n",
       "      <th>mean</th>\n",
       "      <td>1.456991e+01</td>\n",
       "      <td>3.300173e+01</td>\n",
       "      <td>1.019723e+04</td>\n",
       "      <td>8.908532e+02</td>\n",
       "      <td>1.242641e+00</td>\n",
       "    </tr>\n",
       "    <tr>\n",
       "      <th>std</th>\n",
       "      <td>9.422988e+00</td>\n",
       "      <td>1.622697e+01</td>\n",
       "      <td>6.324297e+03</td>\n",
       "      <td>1.729800e+03</td>\n",
       "      <td>2.618834e+00</td>\n",
       "    </tr>\n",
       "    <tr>\n",
       "      <th>min</th>\n",
       "      <td>0.000000e+00</td>\n",
       "      <td>0.000000e+00</td>\n",
       "      <td>0.000000e+00</td>\n",
       "      <td>-1.000000e+00</td>\n",
       "      <td>-2.200000e+01</td>\n",
       "    </tr>\n",
       "    <tr>\n",
       "      <th>25%</th>\n",
       "      <td>7.000000e+00</td>\n",
       "      <td>2.200000e+01</td>\n",
       "      <td>4.476000e+03</td>\n",
       "      <td>2.490000e+02</td>\n",
       "      <td>1.000000e+00</td>\n",
       "    </tr>\n",
       "    <tr>\n",
       "      <th>50%</th>\n",
       "      <td>1.400000e+01</td>\n",
       "      <td>3.100000e+01</td>\n",
       "      <td>9.343000e+03</td>\n",
       "      <td>3.990000e+02</td>\n",
       "      <td>1.000000e+00</td>\n",
       "    </tr>\n",
       "    <tr>\n",
       "      <th>75%</th>\n",
       "      <td>2.300000e+01</td>\n",
       "      <td>4.700000e+01</td>\n",
       "      <td>1.568400e+04</td>\n",
       "      <td>9.990000e+02</td>\n",
       "      <td>1.000000e+00</td>\n",
       "    </tr>\n",
       "    <tr>\n",
       "      <th>max</th>\n",
       "      <td>3.300000e+01</td>\n",
       "      <td>5.900000e+01</td>\n",
       "      <td>2.216900e+04</td>\n",
       "      <td>3.079800e+05</td>\n",
       "      <td>2.169000e+03</td>\n",
       "    </tr>\n",
       "  </tbody>\n",
       "</table>\n",
       "</div>"
      ],
      "text/plain": [
       "       date_block_num       shop_id       item_id    item_price  item_cnt_day\n",
       "count    2.935849e+06  2.935849e+06  2.935849e+06  2.935849e+06  2.935849e+06\n",
       "mean     1.456991e+01  3.300173e+01  1.019723e+04  8.908532e+02  1.242641e+00\n",
       "std      9.422988e+00  1.622697e+01  6.324297e+03  1.729800e+03  2.618834e+00\n",
       "min      0.000000e+00  0.000000e+00  0.000000e+00 -1.000000e+00 -2.200000e+01\n",
       "25%      7.000000e+00  2.200000e+01  4.476000e+03  2.490000e+02  1.000000e+00\n",
       "50%      1.400000e+01  3.100000e+01  9.343000e+03  3.990000e+02  1.000000e+00\n",
       "75%      2.300000e+01  4.700000e+01  1.568400e+04  9.990000e+02  1.000000e+00\n",
       "max      3.300000e+01  5.900000e+01  2.216900e+04  3.079800e+05  2.169000e+03"
      ]
     },
     "execution_count": 33,
     "metadata": {},
     "output_type": "execute_result"
    }
   ],
   "source": [
    "sales_train.describe()"
   ]
  },
  {
   "cell_type": "markdown",
   "metadata": {},
   "source": [
    "**Minimum value of item_price and item_cnt_day is negative. May be item_price and item_cnt_value is incorrect for few samples which are to be corrected.**"
   ]
  },
  {
   "cell_type": "markdown",
   "metadata": {},
   "source": [
    "**Visualize number of items sold in each shop**"
   ]
  },
  {
   "cell_type": "code",
   "execution_count": 34,
   "metadata": {
    "execution": {
     "iopub.execute_input": "2022-05-24T15:18:49.412343Z",
     "iopub.status.busy": "2022-05-24T15:18:49.412055Z",
     "iopub.status.idle": "2022-05-24T15:18:49.472786Z",
     "shell.execute_reply": "2022-05-24T15:18:49.471977Z",
     "shell.execute_reply.started": "2022-05-24T15:18:49.412295Z"
    }
   },
   "outputs": [
    {
     "data": {
      "text/html": [
       "<div>\n",
       "<style scoped>\n",
       "    .dataframe tbody tr th:only-of-type {\n",
       "        vertical-align: middle;\n",
       "    }\n",
       "\n",
       "    .dataframe tbody tr th {\n",
       "        vertical-align: top;\n",
       "    }\n",
       "\n",
       "    .dataframe thead th {\n",
       "        text-align: right;\n",
       "    }\n",
       "</style>\n",
       "<table border=\"1\" class=\"dataframe\">\n",
       "  <thead>\n",
       "    <tr style=\"text-align: right;\">\n",
       "      <th></th>\n",
       "      <th>shop_id</th>\n",
       "      <th>item_count</th>\n",
       "    </tr>\n",
       "  </thead>\n",
       "  <tbody>\n",
       "    <tr>\n",
       "      <th>0</th>\n",
       "      <td>0</td>\n",
       "      <td>9857</td>\n",
       "    </tr>\n",
       "    <tr>\n",
       "      <th>1</th>\n",
       "      <td>1</td>\n",
       "      <td>5678</td>\n",
       "    </tr>\n",
       "    <tr>\n",
       "      <th>2</th>\n",
       "      <td>2</td>\n",
       "      <td>25991</td>\n",
       "    </tr>\n",
       "    <tr>\n",
       "      <th>3</th>\n",
       "      <td>3</td>\n",
       "      <td>25532</td>\n",
       "    </tr>\n",
       "    <tr>\n",
       "      <th>4</th>\n",
       "      <td>4</td>\n",
       "      <td>38242</td>\n",
       "    </tr>\n",
       "  </tbody>\n",
       "</table>\n",
       "</div>"
      ],
      "text/plain": [
       "   shop_id  item_count\n",
       "0        0        9857\n",
       "1        1        5678\n",
       "2        2       25991\n",
       "3        3       25532\n",
       "4        4       38242"
      ]
     },
     "execution_count": 34,
     "metadata": {},
     "output_type": "execute_result"
    }
   ],
   "source": [
    "# no of items in each shop\n",
    "t=sales_train[['shop_id','item_id']]\n",
    "t2=t.groupby(['shop_id']).count().reset_index().rename(columns={\"item_id\":\"item_count\"})\n",
    "t2.head()"
   ]
  },
  {
   "cell_type": "code",
   "execution_count": 35,
   "metadata": {
    "execution": {
     "iopub.execute_input": "2022-05-24T15:18:49.474527Z",
     "iopub.status.busy": "2022-05-24T15:18:49.474253Z",
     "iopub.status.idle": "2022-05-24T15:18:49.744993Z",
     "shell.execute_reply": "2022-05-24T15:18:49.744303Z",
     "shell.execute_reply.started": "2022-05-24T15:18:49.474490Z"
    }
   },
   "outputs": [
    {
     "data": {
      "image/png": "[encoded data removed]",
      "text/plain": [
       "<Figure size 720x360 with 1 Axes>"
      ]
     },
     "metadata": {
      "needs_background": "light"
     },
     "output_type": "display_data"
    }
   ],
   "source": [
    " \n",
    "fig = plt.figure(figsize = (10, 5))\n",
    " \n",
    "# creating the bar plot\n",
    "plt.bar(t2['shop_id'], t2['item_count'], color ='maroon',width = 0.4)\n",
    " \n",
    "plt.xlabel(\"SHOP_ID\")\n",
    "plt.ylabel(\"Total of items sold\")\n",
    "plt.title(\"Items sold in each shop\")\n",
    "plt.show()"
   ]
  },
  {
   "cell_type": "markdown",
   "metadata": {},
   "source": [
    "**It is clear from the above plot that items in shop_31 have registered more sales.**"
   ]
  },
  {
   "cell_type": "markdown",
   "metadata": {},
   "source": [
    "**Visualize number of items sold of each category**"
   ]
  },
  {
   "cell_type": "code",
   "execution_count": 36,
   "metadata": {
    "execution": {
     "iopub.execute_input": "2022-05-24T15:18:49.746569Z",
     "iopub.status.busy": "2022-05-24T15:18:49.746114Z",
     "iopub.status.idle": "2022-05-24T15:18:50.453020Z",
     "shell.execute_reply": "2022-05-24T15:18:50.452332Z",
     "shell.execute_reply.started": "2022-05-24T15:18:49.746530Z"
    }
   },
   "outputs": [
    {
     "data": {
      "text/html": [
       "<div>\n",
       "<style scoped>\n",
       "    .dataframe tbody tr th:only-of-type {\n",
       "        vertical-align: middle;\n",
       "    }\n",
       "\n",
       "    .dataframe tbody tr th {\n",
       "        vertical-align: top;\n",
       "    }\n",
       "\n",
       "    .dataframe thead th {\n",
       "        text-align: right;\n",
       "    }\n",
       "</style>\n",
       "<table border=\"1\" class=\"dataframe\">\n",
       "  <thead>\n",
       "    <tr style=\"text-align: right;\">\n",
       "      <th></th>\n",
       "      <th>item_category_id</th>\n",
       "      <th>item_count</th>\n",
       "    </tr>\n",
       "  </thead>\n",
       "  <tbody>\n",
       "    <tr>\n",
       "      <th>0</th>\n",
       "      <td>0</td>\n",
       "      <td>3</td>\n",
       "    </tr>\n",
       "    <tr>\n",
       "      <th>1</th>\n",
       "      <td>1</td>\n",
       "      <td>2</td>\n",
       "    </tr>\n",
       "    <tr>\n",
       "      <th>2</th>\n",
       "      <td>2</td>\n",
       "      <td>18461</td>\n",
       "    </tr>\n",
       "    <tr>\n",
       "      <th>3</th>\n",
       "      <td>3</td>\n",
       "      <td>25283</td>\n",
       "    </tr>\n",
       "    <tr>\n",
       "      <th>4</th>\n",
       "      <td>4</td>\n",
       "      <td>2304</td>\n",
       "    </tr>\n",
       "  </tbody>\n",
       "</table>\n",
       "</div>"
      ],
      "text/plain": [
       "   item_category_id  item_count\n",
       "0                 0           3\n",
       "1                 1           2\n",
       "2                 2       18461\n",
       "3                 3       25283\n",
       "4                 4        2304"
      ]
     },
     "execution_count": 36,
     "metadata": {},
     "output_type": "execute_result"
    }
   ],
   "source": [
    "t3=pd.merge(sales_train,items,on=['item_id']).drop(['item_name','date','date_block_num','shop_id','item_price','item_cnt_day'],axis=1)\n",
    "t3=t3.groupby(['item_category_id']).count().reset_index().rename(columns={\"item_id\":\"item_count\"})\n",
    "t3.head()"
   ]
  },
  {
   "cell_type": "code",
   "execution_count": 37,
   "metadata": {
    "execution": {
     "iopub.execute_input": "2022-05-24T15:18:50.454727Z",
     "iopub.status.busy": "2022-05-24T15:18:50.454460Z",
     "iopub.status.idle": "2022-05-24T15:18:50.759114Z",
     "shell.execute_reply": "2022-05-24T15:18:50.758303Z",
     "shell.execute_reply.started": "2022-05-24T15:18:50.454693Z"
    }
   },
   "outputs": [
    {
     "data": {
      "image/png": "[encoded data removed]",
      "text/plain": [
       "<Figure size 720x360 with 1 Axes>"
      ]
     },
     "metadata": {
      "needs_background": "light"
     },
     "output_type": "display_data"
    }
   ],
   "source": [
    "fig = plt.figure(figsize = (10, 5))\n",
    "plt.bar(t3['item_category_id'], t3['item_count'], color ='maroon',width = 0.4)\n",
    "plt.xlabel(\"ITEM CATEGORY_ID\")\n",
    "plt.ylabel(\"TOTAL ITEMS OF EACH CATEGORY\")\n",
    "plt.title(\"ITEMS AND CATEGORIES\")\n",
    "plt.show()"
   ]
  },
  {
   "cell_type": "markdown",
   "metadata": {},
   "source": [
    "**Most of the categories have uniform sales and category_40 has registered more sales**"
   ]
  },
  {
   "cell_type": "markdown",
   "metadata": {},
   "source": [
    "**Visualize number of items sold in each month**"
   ]
  },
  {
   "cell_type": "code",
   "execution_count": 38,
   "metadata": {
    "execution": {
     "iopub.execute_input": "2022-05-24T15:18:50.760727Z",
     "iopub.status.busy": "2022-05-24T15:18:50.760474Z",
     "iopub.status.idle": "2022-05-24T15:18:51.692561Z",
     "shell.execute_reply": "2022-05-24T15:18:51.691863Z",
     "shell.execute_reply.started": "2022-05-24T15:18:50.760693Z"
    }
   },
   "outputs": [
    {
     "data": {
      "image/png": "[encoded data removed]",
      "text/plain": [
       "<Figure size 720x360 with 1 Axes>"
      ]
     },
     "metadata": {
      "needs_background": "light"
     },
     "output_type": "display_data"
    }
   ],
   "source": [
    "temp=sales_train.groupby(['date_block_num','shop_id','item_id']).item_cnt_day.sum()\n",
    "temp=temp.reset_index(name = 'item_count_month')\n",
    "temp1=temp.groupby(['date_block_num']).item_count_month.sum().reset_index(name = 'total_products')\n",
    "fig = plt.figure(figsize = (10, 5))\n",
    "plt.bar(temp1['date_block_num'], temp1['total_products'], color ='maroon',width = 0.4)\n",
    "plt.xlabel(\"Month Block Number\")\n",
    "plt.ylabel(\"TOTAL ITEMS SOLD\")\n",
    "plt.title(\"TOTAL ITEMS SOLD IN EACH BLOCK\")\n",
    "plt.show()"
   ]
  },
  {
   "cell_type": "markdown",
   "metadata": {},
   "source": [
    "**From the above plot it is clear that sales are following downward trend and two months, block_num(11) i.e. DEC-2013 and block_num(24) i.e. DEC-2014 have registered more sales**"
   ]
  },
  {
   "cell_type": "code",
   "execution_count": 39,
   "metadata": {
    "execution": {
     "iopub.execute_input": "2022-05-24T15:18:51.694168Z",
     "iopub.status.busy": "2022-05-24T15:18:51.693924Z",
     "iopub.status.idle": "2022-05-24T15:18:51.984719Z",
     "shell.execute_reply": "2022-05-24T15:18:51.983907Z",
     "shell.execute_reply.started": "2022-05-24T15:18:51.694132Z"
    }
   },
   "outputs": [
    {
     "data": {
      "text/plain": [
       "date              0\n",
       "date_block_num    0\n",
       "shop_id           0\n",
       "item_id           0\n",
       "item_price        0\n",
       "item_cnt_day      0\n",
       "dtype: int64"
      ]
     },
     "execution_count": 39,
     "metadata": {},
     "output_type": "execute_result"
    }
   ],
   "source": [
    "sales_train.isna().sum()"
   ]
  },
  {
   "cell_type": "markdown",
   "metadata": {},
   "source": [
    "**It is clear from above result that there are no missing values in sales_train dataset**"
   ]
  },
  {
   "cell_type": "code",
   "execution_count": 40,
   "metadata": {
    "execution": {
     "iopub.execute_input": "2022-05-24T15:18:51.988234Z",
     "iopub.status.busy": "2022-05-24T15:18:51.987975Z",
     "iopub.status.idle": "2022-05-24T15:18:52.567351Z",
     "shell.execute_reply": "2022-05-24T15:18:52.566719Z",
     "shell.execute_reply.started": "2022-05-24T15:18:51.988199Z"
    }
   },
   "outputs": [
    {
     "data": {
      "image/png": "[encoded data removed]",
      "text/plain": [
       "<Figure size 432x288 with 1 Axes>"
      ]
     },
     "metadata": {
      "needs_background": "light"
     },
     "output_type": "display_data"
    }
   ],
   "source": [
    "plt.boxplot(sales_train['item_cnt_day'])\n",
    "plt.show()"
   ]
  },
  {
   "cell_type": "code",
   "execution_count": 41,
   "metadata": {
    "execution": {
     "iopub.execute_input": "2022-05-24T15:18:52.571651Z",
     "iopub.status.busy": "2022-05-24T15:18:52.571068Z",
     "iopub.status.idle": "2022-05-24T15:18:53.020245Z",
     "shell.execute_reply": "2022-05-24T15:18:53.019557Z",
     "shell.execute_reply.started": "2022-05-24T15:18:52.571610Z"
    }
   },
   "outputs": [
    {
     "data": {
      "image/png": "[encoded data removed]",
      "text/plain": [
       "<Figure size 432x288 with 1 Axes>"
      ]
     },
     "metadata": {
      "needs_background": "light"
     },
     "output_type": "display_data"
    }
   ],
   "source": [
    "plt.boxplot(sales_train['item_price'])\n",
    "plt.show()"
   ]
  },
  {
   "cell_type": "markdown",
   "metadata": {},
   "source": [
    "**The above two plots can be used for setting thresholds to deal with outliers**"
   ]
  },
  {
   "cell_type": "markdown",
   "metadata": {},
   "source": [
    "**Function for data preprocessing and final predictions**"
   ]
  },
  {
   "cell_type": "code",
   "execution_count": 42,
   "metadata": {
    "execution": {
     "iopub.execute_input": "2022-05-24T15:18:53.021808Z",
     "iopub.status.busy": "2022-05-24T15:18:53.021540Z",
     "iopub.status.idle": "2022-05-24T15:18:53.047273Z",
     "shell.execute_reply": "2022-05-24T15:18:53.046595Z",
     "shell.execute_reply.started": "2022-05-24T15:18:53.021771Z"
    }
   },
   "outputs": [],
   "source": [
    "def preprocess_predict(sales_train,item_category,items,shops,test):\n",
    "    \"\"\" This function is used for data preprocessing\n",
    "         model training  and making predictions\n",
    "    \"\"\"\n",
    "    \n",
    "    # Some of the shops are duplicate\n",
    "    sales_train.loc[sales_train.shop_id == 0, 'shop_id'] = 57\n",
    "    sales_train.loc[sales_train.shop_id == 1, 'shop_id'] = 58\n",
    "    sales_train.loc[sales_train.shop_id == 10, 'shop_id'] = 11\n",
    "    \n",
    "    test.loc[test.shop_id == 0, 'shop_id'] = 57\n",
    "    test.loc[test.shop_id == 1, 'shop_id'] = 58\n",
    "    test.loc[test.shop_id == 10, 'shop_id'] = 11\n",
    "    \n",
    "    \n",
    "    # selecting rows for which item_cnt_day > 0 and less than 1001\n",
    "    sales_train=sales_train[sales_train['item_cnt_day']<1001]\n",
    "    sales_train=sales_train[sales_train['item_cnt_day']>0]\n",
    "    \n",
    "    # selecting rows for which item_price > 0 and less than 100k\n",
    "    \n",
    "    sales_train=sales_train[sales_train['item_price']>0]\n",
    "    sales_train=sales_train[sales_train['item_price']<100000]\n",
    "    \n",
    "    # Finding count of items sold in each month for every shop,item pair\n",
    "    \n",
    "    new_sales=sales_train.groupby(['date_block_num','item_id','shop_id']).item_cnt_day.sum().reset_index(name='item_count_month')\n",
    "    \n",
    "    # Create list for every month sales i.e. list[0] represents (item,shop) sold in b0 month\n",
    "    lst=[]\n",
    "    for i in range(34):\n",
    "        s1=new_sales.loc[new_sales['date_block_num'] == i].drop(['date_block_num'],axis=1)\n",
    "        col='b'+str(i)\n",
    "        s1.rename(columns = {'item_count_month':col}, inplace = True)\n",
    "        lst.append(s1)\n",
    "        \n",
    "    # merging all the lists to get (item,shop) pairs sold in all months\n",
    "    \n",
    "    for i in range(len(lst)):\n",
    "        if i==0:\n",
    "            data=lst[i]\n",
    "            continue\n",
    "        else:\n",
    "            data=pd.merge(data,lst[i],on=['item_id','shop_id'],how='outer')\n",
    "    \n",
    "    # replacing NaN with 0\n",
    "    data.fillna(0,inplace = True)\n",
    "    \n",
    "    # Every shop name starts with city name, extract city name and add it as a feature\n",
    "    \n",
    "    shop_names=shops['shop_name'].values\n",
    "    city=[]\n",
    "    for n in shop_names:\n",
    "        city.append(n.split(' ')[0])\n",
    "    shops['city']=city\n",
    "    shops['city'] = shops['city'] .astype('category')\n",
    "    shops['city'] = shops['city'] .cat.codes\n",
    "    temp_shops=shops.drop('shop_name',axis=1)\n",
    "    data=pd.merge(data,temp_shops,on=['shop_id'],how='left')\n",
    "    \n",
    "    # Creating mean_price of an item as a feature\n",
    "    \n",
    "    price=sales_train.groupby(['item_id','shop_id']).item_price.mean().reset_index(name='mean_price')\n",
    "    data=pd.merge(data,price,on=['shop_id','item_id'],how='left')\n",
    "    \n",
    "    # Creating item_category_id feature\n",
    "    \n",
    "    temp_item=items.drop('item_name',axis=1)\n",
    "    data=pd.merge(data,temp_item,on=['item_id'],how='left')\n",
    "    \n",
    "    # Creating Revenue feature. Here revenue is total revenue generated for item,shop pair in all 34 months\n",
    "    # Revenue = item_count in all months * mean_price\n",
    "    revenue=[]\n",
    "    for index,row in tqdm(data.iterrows()):\n",
    "        revenue.append(sum((row[2:37])*row['mean_price']))\n",
    "    data['Revenue']=revenue\n",
    "    \n",
    "    # Clipping all sales_count values in the range of 0,20\n",
    "    \n",
    "    data2=data.iloc[:,2:36].clip(0,20)\n",
    "    data.iloc[:,2:36]=data2\n",
    "    \n",
    "    # Merging test data with our preprocessed data\n",
    "    \n",
    "    test1=pd.merge(test,data,on=['shop_id','item_id'],how='left')\n",
    "    test1.fillna(0,inplace=True)\n",
    "    \n",
    "    # Creating lag features with respect to b33\n",
    "    \n",
    "    test1['lag_1'] = test1['b33'].shift(1).clip(0,20)\n",
    "    test1['lag_2'] = test1['b33'].shift(2).clip(0,20)\n",
    "    test1['lag_3'] = test1['b33'].shift(3).clip(0,20)\n",
    "    test1['lag_4'] = test1['b33'].shift(4).clip(0,20)\n",
    "    test1['lag_5'] = test1['b33'].shift(5).clip(0,20)\n",
    "    test1['lag_12'] = test1['b33'].shift(12).clip(0,20)\n",
    "    test1.fillna(0,inplace=True)\n",
    "    test1.to_csv('preprocessed_data.csv',index=False)\n",
    "    \n",
    "    # Dropping first five months, item_id,shop_id,ID and b33 will be used as target feature \n",
    "    \n",
    "    X=test1.drop(['b33','ID','shop_id','item_id','b0','b1','b2','b3','b4','b5'],axis=1)\n",
    "    y=test1['b33']\n",
    "    \n",
    "    # Splitting data into training and validation data sets\n",
    "    \n",
    "    X_train, X_val, y_train, y_val = train_test_split(X, y, test_size=0.2, random_state=42)\n",
    "    \n",
    "    # Training XGBOOST\n",
    "    \n",
    "    model=XGBRegressor(objective='reg:squarederror',colsample_bytree=1, learning_rate=0.05, max_depth=5, n_estimators=500, subsample=1,min_child_weight=5)\n",
    "    # Performance will be evaluated with RMSE and training will be stopped if improvement is not seen for 10 rounds\n",
    "    \n",
    "    model.fit(X_train,y_train, eval_set=[(X_train, y_train),(X_val, y_val)], verbose=False, early_stopping_rounds = 10)\n",
    "    \n",
    "    # Preparing test data for predictions\n",
    "    \n",
    "    test2=test1.drop(['ID','shop_id','item_id','b6','b0','b1','b2','b3','b4','b5'],axis=1)\n",
    "    \n",
    "    res=model.predict(test2)\n",
    "    \n",
    "    # clipping all the predicted values in the range 0,20\n",
    "    \n",
    "    res=res.clip(0,20)\n",
    "    res1=[]\n",
    "    for i in range(len(res)):\n",
    "        res1.append(res[i])\n",
    "    test['item_cnt_month']=res1\n",
    "    \n",
    "    test=test.drop(['shop_id','item_id'],axis=1)\n",
    "    pickle.dump(model, open(\"xgb.dat\", \"wb\"))\n",
    "    \n",
    "   \n",
    "    return test,model,X_val,y_val"
   ]
  },
  {
   "cell_type": "code",
   "execution_count": 46,
   "metadata": {
    "execution": {
     "iopub.execute_input": "2022-05-24T15:23:53.355723Z",
     "iopub.status.busy": "2022-05-24T15:23:53.355079Z",
     "iopub.status.idle": "2022-05-24T15:23:53.367643Z",
     "shell.execute_reply": "2022-05-24T15:23:53.366963Z",
     "shell.execute_reply.started": "2022-05-24T15:23:53.355679Z"
    }
   },
   "outputs": [],
   "source": [
    "def evaluate_model(model,X_val,y_val,predictions,sales):\n",
    "    \n",
    "    \"\"\"\n",
    "    This function is used for evaluating the performance of model \n",
    "    by visualizing RMSE and also visualising feature importance of \n",
    "    XGBOOST\n",
    "    \"\"\"\n",
    "     # Visvualising feature importance\n",
    "    \n",
    "    imp=model.feature_importances_\n",
    "    features = X_val.columns\n",
    "    indices = (np.argsort(imp))[-25:]\n",
    "    plt.figure(figsize=(10,12))\n",
    "    plt.title('Feature Importances')\n",
    "    plt.barh(range(len(indices)), imp[indices], color='r', align='center')\n",
    "    plt.yticks(range(len(indices)), [features[i] for i in indices])\n",
    "    plt.xlabel('Relative Importance')\n",
    "    plt.show()\n",
    "    \n",
    "    # plot RMSE\n",
    "\n",
    "    results = model.evals_result()\n",
    "    epochs = len(results['validation_0']['rmse'])\n",
    "    x_axis = range(0, epochs)\n",
    "    fig, ax = plt.subplots(figsize=(8,5))\n",
    "    ax.plot(x_axis, results['validation_0']['rmse'], label='Training')\n",
    "    ax.plot(x_axis, results['validation_1']['rmse'], label='Validation')\n",
    "    ax.legend()\n",
    "    plt.xlabel('Round Number')\n",
    "    plt.ylabel('RMSE')\n",
    "    plt.title('XGBoost RMSE')\n",
    "    plt.show()\n",
    "    \n",
    "    # Visualize actual and predicted values of B33\n",
    "    \n",
    "    y_pred=model.predict(X_val).clip(0,20)\n",
    "    x_ax = range(len(y_val))\n",
    "    plt.plot(x_ax, y_val, label=\"original\")\n",
    "    plt.plot(x_ax, y_pred, label=\"predicted\")\n",
    "    plt.title(\"Actual and predicted data of B33\")\n",
    "    plt.legend()\n",
    "    plt.show()\n",
    "    \n",
    "    #Total products that will be sold in b34 month as per predicted result\n",
    "    \n",
    "    b34=predictions['item_cnt_month'].sum()\n",
    "    df = {'date_block_num': 34, 'total_products': b34}\n",
    "    temp1 = sales.append(df, ignore_index = True)\n",
    "    fig = plt.figure(figsize = (10, 5))\n",
    "    plt.bar(sales['date_block_num'], sales['total_products'], color ='maroon',width = 0.4)\n",
    "    plt.xlabel(\"Month Block Number\")\n",
    "    plt.ylabel(\"TOTAL ITEMS SOLD\")\n",
    "    plt.title(\"TOTAL ITEMS SOLD IN EACH BLOCK & LAST BLOCK REPRESENTS PREDICTED SALES OF NEXT MONTH\")\n",
    "    plt.show()"
   ]
  },
  {
   "cell_type": "code",
   "execution_count": 44,
   "metadata": {
    "execution": {
     "iopub.execute_input": "2022-05-24T15:18:53.064997Z",
     "iopub.status.busy": "2022-05-24T15:18:53.064606Z",
     "iopub.status.idle": "2022-05-24T15:21:56.764943Z",
     "shell.execute_reply": "2022-05-24T15:21:56.764208Z",
     "shell.execute_reply.started": "2022-05-24T15:18:53.064961Z"
    }
   },
   "outputs": [
    {
     "name": "stderr",
     "output_type": "stream",
     "text": [
      "418882it [01:08, 6154.97it/s]\n"
     ]
    }
   ],
   "source": [
    "submission,model,X_val,y_val=preprocess_predict(sales_train,item_category,items,shops,test)\n"
   ]
  },
  {
   "cell_type": "code",
   "execution_count": 47,
   "metadata": {
    "execution": {
     "iopub.execute_input": "2022-05-24T15:23:56.890594Z",
     "iopub.status.busy": "2022-05-24T15:23:56.889944Z",
     "iopub.status.idle": "2022-05-24T15:23:58.328201Z",
     "shell.execute_reply": "2022-05-24T15:23:58.327534Z",
     "shell.execute_reply.started": "2022-05-24T15:23:56.890554Z"
    }
   },
   "outputs": [
    {
     "data": {
      "image/png": "[encoded data removed]",
      "text/plain": [
       "<Figure size 720x864 with 1 Axes>"
      ]
     },
     "metadata": {
      "needs_background": "light"
     },
     "output_type": "display_data"
    },
    {
     "data": {
      "image/png": "[encoded data removed]",
      "text/plain": [
       "<Figure size 576x360 with 1 Axes>"
      ]
     },
     "metadata": {
      "needs_background": "light"
     },
     "output_type": "display_data"
    },
    {
     "data": {
      "image/png": "[encoded data removed]",
      "text/plain": [
       "<Figure size 432x288 with 1 Axes>"
      ]
     },
     "metadata": {
      "needs_background": "light"
     },
     "output_type": "display_data"
    },
    {
     "data": {
      "image/png": "[encoded data removed]",
      "text/plain": [
       "<Figure size 720x360 with 1 Axes>"
      ]
     },
     "metadata": {
      "needs_background": "light"
     },
     "output_type": "display_data"
    }
   ],
   "source": [
    "evaluate_model(model,X_val,y_val,submission,temp1)"
   ]
  },
  {
   "cell_type": "markdown",
   "metadata": {},
   "source": [
    "**ERROR ANALYSIS**\n",
    "\n",
    "1. One of the important point is 50% of the test data is new i.e. more than 1 lakh (item,shop) pairs that are in test data are not in train data. (These item,shop) pairs may be introduced new i.e. in B34.\n",
    "\n",
    "2. When single point error analysis is performed it is found that the gap between predicted and actual value is more because either the (item,shop)pair is seen only in last month i.e. B33 or it is completely new. "
   ]
  },
  {
   "cell_type": "code",
   "execution_count": null,
   "metadata": {},
   "outputs": [],
   "source": []
  }
 ],
 "metadata": {
  "kernelspec": {
   "display_name": "Python 3",
   "language": "python",
   "name": "python3"
  },
  "language_info": {
   "codemirror_mode": {
    "name": "ipython",
    "version": 3
   },
   "file_extension": ".py",
   "mimetype": "text/x-python",
   "name": "python",
   "nbconvert_exporter": "python",
   "pygments_lexer": "ipython3",
   "version": "3.7.0"
  }
 },
 "nbformat": 4,
 "nbformat_minor": 4
}
